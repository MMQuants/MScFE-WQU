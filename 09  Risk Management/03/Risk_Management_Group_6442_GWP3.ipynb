{
  "nbformat": 4,
  "nbformat_minor": 0,
  "metadata": {
    "colab": {
      "provenance": []
    },
    "kernelspec": {
      "name": "python3",
      "display_name": "Python 3"
    },
    "language_info": {
      "name": "python"
    },
    "widgets": {
      "application/vnd.jupyter.widget-state+json": {
        "b1f08f0d8d014ab98740bbbf139fe7ba": {
          "model_module": "@jupyter-widgets/controls",
          "model_name": "HBoxModel",
          "model_module_version": "1.5.0",
          "state": {
            "_dom_classes": [],
            "_model_module": "@jupyter-widgets/controls",
            "_model_module_version": "1.5.0",
            "_model_name": "HBoxModel",
            "_view_count": null,
            "_view_module": "@jupyter-widgets/controls",
            "_view_module_version": "1.5.0",
            "_view_name": "HBoxView",
            "box_style": "",
            "children": [
              "IPY_MODEL_1f264bb72a9d48daad013bdc51d4c10f",
              "IPY_MODEL_b66f6f5f4cc248f5b94b5d3fc5994d1d",
              "IPY_MODEL_e3736f2103114ccfa28cf920d6148b56"
            ],
            "layout": "IPY_MODEL_5f8718fb857c435e8748064608a11802"
          }
        },
        "1f264bb72a9d48daad013bdc51d4c10f": {
          "model_module": "@jupyter-widgets/controls",
          "model_name": "HTMLModel",
          "model_module_version": "1.5.0",
          "state": {
            "_dom_classes": [],
            "_model_module": "@jupyter-widgets/controls",
            "_model_module_version": "1.5.0",
            "_model_name": "HTMLModel",
            "_view_count": null,
            "_view_module": "@jupyter-widgets/controls",
            "_view_module_version": "1.5.0",
            "_view_name": "HTMLView",
            "description": "",
            "description_tooltip": null,
            "layout": "IPY_MODEL_72bb72cbaf1f42f1876e73c5f2b6b4c7",
            "placeholder": "​",
            "style": "IPY_MODEL_e03e49a21ba14768bcf068b17c18b255",
            "value": "  0%"
          }
        },
        "b66f6f5f4cc248f5b94b5d3fc5994d1d": {
          "model_module": "@jupyter-widgets/controls",
          "model_name": "FloatProgressModel",
          "model_module_version": "1.5.0",
          "state": {
            "_dom_classes": [],
            "_model_module": "@jupyter-widgets/controls",
            "_model_module_version": "1.5.0",
            "_model_name": "FloatProgressModel",
            "_view_count": null,
            "_view_module": "@jupyter-widgets/controls",
            "_view_module_version": "1.5.0",
            "_view_name": "ProgressView",
            "bar_style": "danger",
            "description": "",
            "description_tooltip": null,
            "layout": "IPY_MODEL_316504824db546f09d81c355117abf71",
            "max": 1000000,
            "min": 0,
            "orientation": "horizontal",
            "style": "IPY_MODEL_e758522774bb46a79cc1424ba45fa1d6",
            "value": 26
          }
        },
        "e3736f2103114ccfa28cf920d6148b56": {
          "model_module": "@jupyter-widgets/controls",
          "model_name": "HTMLModel",
          "model_module_version": "1.5.0",
          "state": {
            "_dom_classes": [],
            "_model_module": "@jupyter-widgets/controls",
            "_model_module_version": "1.5.0",
            "_model_name": "HTMLModel",
            "_view_count": null,
            "_view_module": "@jupyter-widgets/controls",
            "_view_module_version": "1.5.0",
            "_view_name": "HTMLView",
            "description": "",
            "description_tooltip": null,
            "layout": "IPY_MODEL_2345e389d28a4e4f96757de33585799e",
            "placeholder": "​",
            "style": "IPY_MODEL_abd23b7a2d5f4a488a94f837d5e92b17",
            "value": " 26/1000000 [00:01&lt;14:12:44, 19.54it/s]"
          }
        },
        "5f8718fb857c435e8748064608a11802": {
          "model_module": "@jupyter-widgets/base",
          "model_name": "LayoutModel",
          "model_module_version": "1.2.0",
          "state": {
            "_model_module": "@jupyter-widgets/base",
            "_model_module_version": "1.2.0",
            "_model_name": "LayoutModel",
            "_view_count": null,
            "_view_module": "@jupyter-widgets/base",
            "_view_module_version": "1.2.0",
            "_view_name": "LayoutView",
            "align_content": null,
            "align_items": null,
            "align_self": null,
            "border": null,
            "bottom": null,
            "display": null,
            "flex": null,
            "flex_flow": null,
            "grid_area": null,
            "grid_auto_columns": null,
            "grid_auto_flow": null,
            "grid_auto_rows": null,
            "grid_column": null,
            "grid_gap": null,
            "grid_row": null,
            "grid_template_areas": null,
            "grid_template_columns": null,
            "grid_template_rows": null,
            "height": null,
            "justify_content": null,
            "justify_items": null,
            "left": null,
            "margin": null,
            "max_height": null,
            "max_width": null,
            "min_height": null,
            "min_width": null,
            "object_fit": null,
            "object_position": null,
            "order": null,
            "overflow": null,
            "overflow_x": null,
            "overflow_y": null,
            "padding": null,
            "right": null,
            "top": null,
            "visibility": null,
            "width": null
          }
        },
        "72bb72cbaf1f42f1876e73c5f2b6b4c7": {
          "model_module": "@jupyter-widgets/base",
          "model_name": "LayoutModel",
          "model_module_version": "1.2.0",
          "state": {
            "_model_module": "@jupyter-widgets/base",
            "_model_module_version": "1.2.0",
            "_model_name": "LayoutModel",
            "_view_count": null,
            "_view_module": "@jupyter-widgets/base",
            "_view_module_version": "1.2.0",
            "_view_name": "LayoutView",
            "align_content": null,
            "align_items": null,
            "align_self": null,
            "border": null,
            "bottom": null,
            "display": null,
            "flex": null,
            "flex_flow": null,
            "grid_area": null,
            "grid_auto_columns": null,
            "grid_auto_flow": null,
            "grid_auto_rows": null,
            "grid_column": null,
            "grid_gap": null,
            "grid_row": null,
            "grid_template_areas": null,
            "grid_template_columns": null,
            "grid_template_rows": null,
            "height": null,
            "justify_content": null,
            "justify_items": null,
            "left": null,
            "margin": null,
            "max_height": null,
            "max_width": null,
            "min_height": null,
            "min_width": null,
            "object_fit": null,
            "object_position": null,
            "order": null,
            "overflow": null,
            "overflow_x": null,
            "overflow_y": null,
            "padding": null,
            "right": null,
            "top": null,
            "visibility": null,
            "width": null
          }
        },
        "e03e49a21ba14768bcf068b17c18b255": {
          "model_module": "@jupyter-widgets/controls",
          "model_name": "DescriptionStyleModel",
          "model_module_version": "1.5.0",
          "state": {
            "_model_module": "@jupyter-widgets/controls",
            "_model_module_version": "1.5.0",
            "_model_name": "DescriptionStyleModel",
            "_view_count": null,
            "_view_module": "@jupyter-widgets/base",
            "_view_module_version": "1.2.0",
            "_view_name": "StyleView",
            "description_width": ""
          }
        },
        "316504824db546f09d81c355117abf71": {
          "model_module": "@jupyter-widgets/base",
          "model_name": "LayoutModel",
          "model_module_version": "1.2.0",
          "state": {
            "_model_module": "@jupyter-widgets/base",
            "_model_module_version": "1.2.0",
            "_model_name": "LayoutModel",
            "_view_count": null,
            "_view_module": "@jupyter-widgets/base",
            "_view_module_version": "1.2.0",
            "_view_name": "LayoutView",
            "align_content": null,
            "align_items": null,
            "align_self": null,
            "border": null,
            "bottom": null,
            "display": null,
            "flex": null,
            "flex_flow": null,
            "grid_area": null,
            "grid_auto_columns": null,
            "grid_auto_flow": null,
            "grid_auto_rows": null,
            "grid_column": null,
            "grid_gap": null,
            "grid_row": null,
            "grid_template_areas": null,
            "grid_template_columns": null,
            "grid_template_rows": null,
            "height": null,
            "justify_content": null,
            "justify_items": null,
            "left": null,
            "margin": null,
            "max_height": null,
            "max_width": null,
            "min_height": null,
            "min_width": null,
            "object_fit": null,
            "object_position": null,
            "order": null,
            "overflow": null,
            "overflow_x": null,
            "overflow_y": null,
            "padding": null,
            "right": null,
            "top": null,
            "visibility": null,
            "width": null
          }
        },
        "e758522774bb46a79cc1424ba45fa1d6": {
          "model_module": "@jupyter-widgets/controls",
          "model_name": "ProgressStyleModel",
          "model_module_version": "1.5.0",
          "state": {
            "_model_module": "@jupyter-widgets/controls",
            "_model_module_version": "1.5.0",
            "_model_name": "ProgressStyleModel",
            "_view_count": null,
            "_view_module": "@jupyter-widgets/base",
            "_view_module_version": "1.2.0",
            "_view_name": "StyleView",
            "bar_color": null,
            "description_width": ""
          }
        },
        "2345e389d28a4e4f96757de33585799e": {
          "model_module": "@jupyter-widgets/base",
          "model_name": "LayoutModel",
          "model_module_version": "1.2.0",
          "state": {
            "_model_module": "@jupyter-widgets/base",
            "_model_module_version": "1.2.0",
            "_model_name": "LayoutModel",
            "_view_count": null,
            "_view_module": "@jupyter-widgets/base",
            "_view_module_version": "1.2.0",
            "_view_name": "LayoutView",
            "align_content": null,
            "align_items": null,
            "align_self": null,
            "border": null,
            "bottom": null,
            "display": null,
            "flex": null,
            "flex_flow": null,
            "grid_area": null,
            "grid_auto_columns": null,
            "grid_auto_flow": null,
            "grid_auto_rows": null,
            "grid_column": null,
            "grid_gap": null,
            "grid_row": null,
            "grid_template_areas": null,
            "grid_template_columns": null,
            "grid_template_rows": null,
            "height": null,
            "justify_content": null,
            "justify_items": null,
            "left": null,
            "margin": null,
            "max_height": null,
            "max_width": null,
            "min_height": null,
            "min_width": null,
            "object_fit": null,
            "object_position": null,
            "order": null,
            "overflow": null,
            "overflow_x": null,
            "overflow_y": null,
            "padding": null,
            "right": null,
            "top": null,
            "visibility": null,
            "width": null
          }
        },
        "abd23b7a2d5f4a488a94f837d5e92b17": {
          "model_module": "@jupyter-widgets/controls",
          "model_name": "DescriptionStyleModel",
          "model_module_version": "1.5.0",
          "state": {
            "_model_module": "@jupyter-widgets/controls",
            "_model_module_version": "1.5.0",
            "_model_name": "DescriptionStyleModel",
            "_view_count": null,
            "_view_module": "@jupyter-widgets/base",
            "_view_module_version": "1.2.0",
            "_view_name": "StyleView",
            "description_width": ""
          }
        }
      }
    }
  },
  "cells": [
    {
      "cell_type": "markdown",
      "source": [
        "# **GROUP NUMBER: 6442**"
      ],
      "metadata": {
        "id": "ojxqc7AkCOJm"
      }
    },
    {
      "cell_type": "markdown",
      "source": [
        "# **MScFE 652 RISK MANAGEMENT**\n",
        "\n",
        "**Group Work Project # 3**"
      ],
      "metadata": {
        "id": "XYI3xBTlCUKw"
      }
    },
    {
      "cell_type": "markdown",
      "source": [
        "# **Tasks**"
      ],
      "metadata": {
        "id": "EFSTF-wDCX7I"
      }
    },
    {
      "cell_type": "markdown",
      "source": [
        "# **Step 2**"
      ],
      "metadata": {
        "id": "T5A9I2vMCdXA"
      }
    },
    {
      "cell_type": "markdown",
      "source": [
        "Macroeconomic and Financial data that we have since the beginning, is used for allocation. In order to divide our data into three portions, i.e., training, validation and testing, we’ll amalgamate the macroeconomic and financial datasets into one dataframe and then we’ll slice the data frame accordingly to divide it into three parts. Approximately, 80% data is allocated to the training set, 10% to the validation set and the next 10% to the testing set."
      ],
      "metadata": {
        "id": "2iVqWWgRCzy7"
      }
    },
    {
      "cell_type": "code",
      "execution_count": null,
      "metadata": {
        "id": "QQgXkxCVBDrT",
        "colab": {
          "base_uri": "https://localhost:8080/"
        },
        "outputId": "8b4735a7-a8ed-41fa-a185-9b13664304bc"
      },
      "outputs": [
        {
          "output_type": "stream",
          "name": "stdout",
          "text": [
            "Collecting fredapi\n",
            "  Downloading fredapi-0.5.2-py3-none-any.whl.metadata (5.0 kB)\n",
            "Requirement already satisfied: pandas in /usr/local/lib/python3.10/dist-packages (from fredapi) (2.1.4)\n",
            "Requirement already satisfied: numpy<2,>=1.22.4 in /usr/local/lib/python3.10/dist-packages (from pandas->fredapi) (1.26.4)\n",
            "Requirement already satisfied: python-dateutil>=2.8.2 in /usr/local/lib/python3.10/dist-packages (from pandas->fredapi) (2.8.2)\n",
            "Requirement already satisfied: pytz>=2020.1 in /usr/local/lib/python3.10/dist-packages (from pandas->fredapi) (2024.1)\n",
            "Requirement already satisfied: tzdata>=2022.1 in /usr/local/lib/python3.10/dist-packages (from pandas->fredapi) (2024.1)\n",
            "Requirement already satisfied: six>=1.5 in /usr/local/lib/python3.10/dist-packages (from python-dateutil>=2.8.2->pandas->fredapi) (1.16.0)\n",
            "Downloading fredapi-0.5.2-py3-none-any.whl (11 kB)\n",
            "Installing collected packages: fredapi\n",
            "Successfully installed fredapi-0.5.2\n",
            "Collecting hmms\n",
            "  Downloading hmms-0.2.3.tar.gz (524 kB)\n",
            "\u001b[2K     \u001b[90m━━━━━━━━━━━━━━━━━━━━━━━━━━━━━━━━━━━━━━━━\u001b[0m \u001b[32m524.8/524.8 kB\u001b[0m \u001b[31m7.6 MB/s\u001b[0m eta \u001b[36m0:00:00\u001b[0m\n",
            "\u001b[?25h  Preparing metadata (setup.py) ... \u001b[?25l\u001b[?25hdone\n",
            "Requirement already satisfied: Cython in /usr/local/lib/python3.10/dist-packages (from hmms) (3.0.11)\n",
            "Requirement already satisfied: NumPy in /usr/local/lib/python3.10/dist-packages (from hmms) (1.26.4)\n",
            "Requirement already satisfied: ipython in /usr/local/lib/python3.10/dist-packages (from hmms) (7.34.0)\n",
            "Requirement already satisfied: matplotlib in /usr/local/lib/python3.10/dist-packages (from hmms) (3.7.1)\n",
            "Requirement already satisfied: pandas in /usr/local/lib/python3.10/dist-packages (from hmms) (2.1.4)\n",
            "Requirement already satisfied: scipy in /usr/local/lib/python3.10/dist-packages (from hmms) (1.13.1)\n",
            "Requirement already satisfied: setuptools>=18.5 in /usr/local/lib/python3.10/dist-packages (from ipython->hmms) (71.0.4)\n",
            "Collecting jedi>=0.16 (from ipython->hmms)\n",
            "  Using cached jedi-0.19.1-py2.py3-none-any.whl.metadata (22 kB)\n",
            "Requirement already satisfied: decorator in /usr/local/lib/python3.10/dist-packages (from ipython->hmms) (4.4.2)\n",
            "Requirement already satisfied: pickleshare in /usr/local/lib/python3.10/dist-packages (from ipython->hmms) (0.7.5)\n",
            "Requirement already satisfied: traitlets>=4.2 in /usr/local/lib/python3.10/dist-packages (from ipython->hmms) (5.7.1)\n",
            "Requirement already satisfied: prompt-toolkit!=3.0.0,!=3.0.1,<3.1.0,>=2.0.0 in /usr/local/lib/python3.10/dist-packages (from ipython->hmms) (3.0.47)\n",
            "Requirement already satisfied: pygments in /usr/local/lib/python3.10/dist-packages (from ipython->hmms) (2.16.1)\n",
            "Requirement already satisfied: backcall in /usr/local/lib/python3.10/dist-packages (from ipython->hmms) (0.2.0)\n",
            "Requirement already satisfied: matplotlib-inline in /usr/local/lib/python3.10/dist-packages (from ipython->hmms) (0.1.7)\n",
            "Requirement already satisfied: pexpect>4.3 in /usr/local/lib/python3.10/dist-packages (from ipython->hmms) (4.9.0)\n",
            "Requirement already satisfied: contourpy>=1.0.1 in /usr/local/lib/python3.10/dist-packages (from matplotlib->hmms) (1.2.1)\n",
            "Requirement already satisfied: cycler>=0.10 in /usr/local/lib/python3.10/dist-packages (from matplotlib->hmms) (0.12.1)\n",
            "Requirement already satisfied: fonttools>=4.22.0 in /usr/local/lib/python3.10/dist-packages (from matplotlib->hmms) (4.53.1)\n",
            "Requirement already satisfied: kiwisolver>=1.0.1 in /usr/local/lib/python3.10/dist-packages (from matplotlib->hmms) (1.4.5)\n",
            "Requirement already satisfied: packaging>=20.0 in /usr/local/lib/python3.10/dist-packages (from matplotlib->hmms) (24.1)\n",
            "Requirement already satisfied: pillow>=6.2.0 in /usr/local/lib/python3.10/dist-packages (from matplotlib->hmms) (9.4.0)\n",
            "Requirement already satisfied: pyparsing>=2.3.1 in /usr/local/lib/python3.10/dist-packages (from matplotlib->hmms) (3.1.2)\n",
            "Requirement already satisfied: python-dateutil>=2.7 in /usr/local/lib/python3.10/dist-packages (from matplotlib->hmms) (2.8.2)\n",
            "Requirement already satisfied: pytz>=2020.1 in /usr/local/lib/python3.10/dist-packages (from pandas->hmms) (2024.1)\n",
            "Requirement already satisfied: tzdata>=2022.1 in /usr/local/lib/python3.10/dist-packages (from pandas->hmms) (2024.1)\n",
            "Requirement already satisfied: parso<0.9.0,>=0.8.3 in /usr/local/lib/python3.10/dist-packages (from jedi>=0.16->ipython->hmms) (0.8.4)\n",
            "Requirement already satisfied: ptyprocess>=0.5 in /usr/local/lib/python3.10/dist-packages (from pexpect>4.3->ipython->hmms) (0.7.0)\n",
            "Requirement already satisfied: wcwidth in /usr/local/lib/python3.10/dist-packages (from prompt-toolkit!=3.0.0,!=3.0.1,<3.1.0,>=2.0.0->ipython->hmms) (0.2.13)\n",
            "Requirement already satisfied: six>=1.5 in /usr/local/lib/python3.10/dist-packages (from python-dateutil>=2.7->matplotlib->hmms) (1.16.0)\n",
            "Using cached jedi-0.19.1-py2.py3-none-any.whl (1.6 MB)\n",
            "Building wheels for collected packages: hmms\n",
            "  Building wheel for hmms (setup.py) ... \u001b[?25l\u001b[?25hdone\n",
            "  Created wheel for hmms: filename=hmms-0.2.3-cp310-cp310-linux_x86_64.whl size=2158060 sha256=a1b6f7f9033de1654d2278325073835e624adef652fa2f33a8c13cb99acd6d4e\n",
            "  Stored in directory: /root/.cache/pip/wheels/aa/6f/a4/1dbae244341f24881dce9465aa533729d2ae870cff3866070f\n",
            "Successfully built hmms\n",
            "Installing collected packages: jedi, hmms\n",
            "Successfully installed hmms-0.2.3 jedi-0.19.1\n",
            "Collecting hmmlearn\n",
            "  Downloading hmmlearn-0.3.2-cp310-cp310-manylinux_2_17_x86_64.manylinux2014_x86_64.whl.metadata (2.9 kB)\n",
            "Requirement already satisfied: numpy>=1.10 in /usr/local/lib/python3.10/dist-packages (from hmmlearn) (1.26.4)\n",
            "Requirement already satisfied: scikit-learn!=0.22.0,>=0.16 in /usr/local/lib/python3.10/dist-packages (from hmmlearn) (1.3.2)\n",
            "Requirement already satisfied: scipy>=0.19 in /usr/local/lib/python3.10/dist-packages (from hmmlearn) (1.13.1)\n",
            "Requirement already satisfied: joblib>=1.1.1 in /usr/local/lib/python3.10/dist-packages (from scikit-learn!=0.22.0,>=0.16->hmmlearn) (1.4.2)\n",
            "Requirement already satisfied: threadpoolctl>=2.0.0 in /usr/local/lib/python3.10/dist-packages (from scikit-learn!=0.22.0,>=0.16->hmmlearn) (3.5.0)\n",
            "Downloading hmmlearn-0.3.2-cp310-cp310-manylinux_2_17_x86_64.manylinux2014_x86_64.whl (161 kB)\n",
            "\u001b[2K   \u001b[90m━━━━━━━━━━━━━━━━━━━━━━━━━━━━━━━━━━━━━━━━\u001b[0m \u001b[32m161.1/161.1 kB\u001b[0m \u001b[31m2.9 MB/s\u001b[0m eta \u001b[36m0:00:00\u001b[0m\n",
            "\u001b[?25hInstalling collected packages: hmmlearn\n",
            "Successfully installed hmmlearn-0.3.2\n"
          ]
        }
      ],
      "source": [
        "!pip install fredapi\n",
        "!pip install hmms\n",
        "!pip install hmmlearn"
      ]
    },
    {
      "cell_type": "code",
      "source": [
        "import pandas as pd\n",
        "import numpy as np\n",
        "import matplotlib.pyplot as plt\n",
        "import seaborn as sns\n",
        "from collections import Counter\n",
        "import statsmodels.api as sm\n",
        "from scipy import stats\n",
        "from statsmodels.tsa.stattools import kpss, adfuller\n",
        "from statsmodels.graphics.tsaplots import plot_acf, plot_pacf\n",
        "from statsmodels.stats.diagnostic import acorr_ljungbox"
      ],
      "metadata": {
        "id": "f-jDLlyjgW3K"
      },
      "execution_count": null,
      "outputs": []
    },
    {
      "cell_type": "code",
      "source": [
        "from fredapi import Fred\n",
        "# FRED API key\n",
        "fred_key = \"f9c22fca078ece81a7a2ac6fba29b8a9\";\n",
        "# Initiates a session with the FRED datacenter to recieve datasets\n",
        "fred = Fred(api_key=fred_key);\n",
        "# Retrieve data from FRED API\n",
        "fred_data = pd.DataFrame(fred.get_series('WTISPLC'), columns=['WTISPLC'])"
      ],
      "metadata": {
        "id": "neOnB6kggmwu"
      },
      "execution_count": null,
      "outputs": []
    },
    {
      "cell_type": "code",
      "source": [
        "datasets_fred = [\n",
        "'WTISPLC',    # Spot Crude Oil Price: West Texas Intermediate (WTI) (WTISPLC)\n",
        "'CPIENGSL', # Consumer Price Index for All Urban Consumers: Energy in U.S. City Average\n",
        "'CAPG211S', # Industrial Capacity: Mining: Oil and Gas Extraction (NAICS = 211)\n",
        "'CAPUTLG211S', #  Capacity Utilization: Mining: Oil and Gas Extraction (NAICS = 211)\n",
        "'IPG211S', # Industrial Production Index: Mining: Oil and Gas Extraction (NAICS = 211)\n",
        "'INDPRO', #  Industrial Production: Total Index\n",
        "'IPN213111N', # Industrial Production: Mining: Drilling Oil and Gas Wells\n",
        "'PCU211211', # Producer Price Index: Mining: Oil and Gas Extraction (NAICS = 211)\n",
        "                ];\n",
        "\n",
        "data_frames = []; # List of dataframes to be concatenated\n",
        "\n",
        "# Adding FRED datasets\n",
        "for series_id in datasets_fred:\n",
        "  # Get series from FRED\n",
        "  df = pd.DataFrame(fred.get_series(series_id), columns=[series_id]);\n",
        "  data_frames.append(df);\n",
        "\n",
        "macro_data = pd.concat(data_frames, axis=1)\n",
        "#macro_data = macro_data[macro_data.index > '2000-01-01']"
      ],
      "metadata": {
        "id": "ZIt7jze_gxxM"
      },
      "execution_count": null,
      "outputs": []
    },
    {
      "cell_type": "code",
      "source": [
        "financial_datasets_fred = [\n",
        "'DEXCAUS', #Canadian dollar to US dollar exchange rate\n",
        "'VIXCLS', #CBOE Volatility Index\n",
        "'DCOILWTICO', #WTI Crude oil futures\n",
        "'DCOILBRENTEU', #Brent crude oil futures\n",
        "'SP500', #S&P500 Index\n",
        "];\n",
        "\n",
        "finan_data_frames = []; # List of dataframes to be concatenated\n",
        "\n",
        "# Adding FRED datasets\n",
        "for series_id in financial_datasets_fred:\n",
        "  # Get series from FRED\n",
        "  df = pd.DataFrame(fred.get_series(series_id), columns=[series_id]);\n",
        "  finan_data_frames.append(df);\n",
        "\n",
        "fin_data = pd.concat(finan_data_frames, axis=1)\n",
        "#fin_data = data_merge[fin_data.index > '2000-01-01']"
      ],
      "metadata": {
        "id": "wT5EFm2Pg3A3"
      },
      "execution_count": null,
      "outputs": []
    },
    {
      "cell_type": "code",
      "source": [
        "def clean(data):\n",
        "  data.replace('-', np.nan, regex=True, inplace=True);\n",
        "  data.fillna(method='bfill', inplace=True);\n"
      ],
      "metadata": {
        "id": "A0kTiSTNhFiR"
      },
      "execution_count": null,
      "outputs": []
    },
    {
      "cell_type": "code",
      "source": [
        "macro = clean(macro_data)\n",
        "fin = clean(fin_data)"
      ],
      "metadata": {
        "colab": {
          "base_uri": "https://localhost:8080/"
        },
        "id": "RJulkV8-ZRKg",
        "outputId": "b00e6477-7b19-422d-dcd6-5cb4fe194a52"
      },
      "execution_count": null,
      "outputs": [
        {
          "output_type": "stream",
          "name": "stderr",
          "text": [
            "<ipython-input-8-d7f392468464>:3: FutureWarning: DataFrame.fillna with 'method' is deprecated and will raise in a future version. Use obj.ffill() or obj.bfill() instead.\n",
            "  data.fillna(method='bfill', inplace=True);\n"
          ]
        }
      ]
    },
    {
      "cell_type": "markdown",
      "source": [
        "*First*, the two datasets are being merged to form a dataframe and then two additional columns are added, one for the current crude oil price and next for the predicted or forecasted prices.\n"
      ],
      "metadata": {
        "id": "cAZ-berm_TxX"
      }
    },
    {
      "cell_type": "code",
      "source": [
        "data_merge=[]"
      ],
      "metadata": {
        "id": "8pQbCm1gT8Yh"
      },
      "execution_count": null,
      "outputs": []
    },
    {
      "cell_type": "code",
      "source": [
        "data_merge.append(macro)\n",
        "data_merge.append(fin)"
      ],
      "metadata": {
        "id": "QxomB1NNZ3Cp"
      },
      "execution_count": null,
      "outputs": []
    },
    {
      "cell_type": "code",
      "source": [
        "#adding two additional columns for current and forecast price\n",
        "\n",
        "datasets = datasets_fred + financial_datasets_fred + ['WTISPLC', 'forecast'];\n",
        "current = pd.DataFrame(fred.get_series('WTISPLC'), columns=['WTISPLC']);\n",
        "forecast = pd.DataFrame(fred.get_series('WTISPLC').shift(-1), columns=['forecast']);\n",
        "data_merge.append(current);\n",
        "data_merge.append(forecast);"
      ],
      "metadata": {
        "id": "KLdl7tPXb17i"
      },
      "execution_count": null,
      "outputs": []
    },
    {
      "cell_type": "code",
      "source": [
        "#amalgamate all datasets in single dataframe\n",
        "\n",
        "data = pd.concat(data_merge, axis=1, join='inner')"
      ],
      "metadata": {
        "id": "fZ3f2jhxgTa4"
      },
      "execution_count": null,
      "outputs": []
    },
    {
      "cell_type": "markdown",
      "source": [
        "After that, the data is sliced into training, validation and testing data and the results are observed as follows-\n"
      ],
      "metadata": {
        "id": "9Lrrs300jU48"
      }
    },
    {
      "cell_type": "code",
      "source": [
        "#slicing into training, validation, testing datasat\n",
        "\n",
        "train_data = data[: int(data.shape[0] * 0.80)];\n",
        "vald_data = data[int(0.80 * data.shape[0]) : int(0.90 * data.shape[0])];\n",
        "test_data = data[int(0.90* data.shape[0]) : int(data.shape[0])];\n",
        "print(train_data)\n",
        "print(vald_data)\n",
        "print(test_data)"
      ],
      "metadata": {
        "colab": {
          "base_uri": "https://localhost:8080/"
        },
        "id": "k-i7JRsMjUNn",
        "outputId": "26692ced-df78-4bf8-ed7f-fd92ce69d1c6"
      },
      "execution_count": null,
      "outputs": [
        {
          "output_type": "stream",
          "name": "stdout",
          "text": [
            "            WTISPLC  forecast\n",
            "1946-01-01     1.17      1.17\n",
            "1946-02-01     1.17      1.17\n",
            "1946-03-01     1.17      1.27\n",
            "1946-04-01     1.27      1.27\n",
            "1946-05-01     1.27      1.27\n",
            "...             ...       ...\n",
            "2008-06-01   133.93    133.44\n",
            "2008-07-01   133.44    116.61\n",
            "2008-08-01   116.61    103.90\n",
            "2008-09-01   103.90     76.65\n",
            "2008-10-01    76.65     57.44\n",
            "\n",
            "[754 rows x 2 columns]\n",
            "            WTISPLC  forecast\n",
            "2008-11-01    57.44     41.02\n",
            "2008-12-01    41.02     41.74\n",
            "2009-01-01    41.74     39.16\n",
            "2009-02-01    39.16     47.98\n",
            "2009-03-01    47.98     49.79\n",
            "...             ...       ...\n",
            "2016-04-01    40.75     46.71\n",
            "2016-05-01    46.71     48.76\n",
            "2016-06-01    48.76     44.65\n",
            "2016-07-01    44.65     44.72\n",
            "2016-08-01    44.72     45.18\n",
            "\n",
            "[94 rows x 2 columns]\n",
            "            WTISPLC  forecast\n",
            "2016-09-01    45.18     49.78\n",
            "2016-10-01    49.78     45.66\n",
            "2016-11-01    45.66     51.97\n",
            "2016-12-01    51.97     52.50\n",
            "2017-01-01    52.50     53.47\n",
            "...             ...       ...\n",
            "2024-03-01    81.28     85.35\n",
            "2024-04-01    85.35     80.02\n",
            "2024-05-01    80.02     79.77\n",
            "2024-06-01    79.77     81.80\n",
            "2024-07-01    81.80       NaN\n",
            "\n",
            "[95 rows x 2 columns]\n"
          ]
        }
      ]
    },
    {
      "cell_type": "markdown",
      "source": [
        "The allocation of the data to training, validation, and testing dataset is done as above."
      ],
      "metadata": {
        "id": "U4_QDUqWlVKw"
      }
    },
    {
      "cell_type": "markdown",
      "source": [
        "# **Step 3 & Step 4**"
      ],
      "metadata": {
        "id": "-8IEhS5lIOWV"
      }
    },
    {
      "cell_type": "markdown",
      "source": [
        "In order to validate the model, hill climbing is used to run the Bayesian Network model on the discretized data. The data is discretized into binary values. At first the parameters of the hidden markov model are computed and then with an initial expert knowledge model, hill climbing is performed.\n"
      ],
      "metadata": {
        "id": "6hCC4f9Vbo3R"
      }
    },
    {
      "cell_type": "code",
      "source": [
        " #learning the parameters of hmm\n",
        "\n",
        "import hmmlearn.hmm as hmms\n",
        "import pandas as pd\n",
        "\n",
        "for series_id in train_data.columns: # Iterate over existing columns in train_data\n",
        "  if series_id == 'forecast':\n",
        "    continue  # Skip the 'forecast' column\n",
        "\n",
        "  dhmm = hmms.GaussianHMM(n_components=3, covariance_type=\"diag\")\n",
        "  data_diff = train_data[series_id].diff()[1:]\n",
        "  split_index = (len(data_diff) // 32) * 32\n",
        "  emit_seq = data_diff.values.reshape(-1, 1)[:split_index]\n",
        "  dhmm.fit(emit_seq)\n",
        "  path = \"./hmms/\" + series_id.replace(\".\", \"_\")"
      ],
      "metadata": {
        "id": "WwT5SfrZlUl0"
      },
      "execution_count": null,
      "outputs": []
    },
    {
      "cell_type": "code",
      "source": [
        "import numpy as np\n",
        "import pandas as pd\n",
        "from hmmlearn.hmm import GaussianHMM\n",
        "\n",
        "# Construction of discretized training dataframe\n",
        "disc_test = pd.DataFrame(index=train_data[1:].index)\n",
        "\n",
        "for series_id in datasets:\n",
        "    if series_id == 'forecast':\n",
        "        # Handle the forecast case as needed (if not fitting, skip to the next series)\n",
        "        continue\n",
        "    elif series_id in train_data.columns:\n",
        "      dhmm = GaussianHMM(n_components=3, covariance_type=\"diag\")\n",
        "      data_diff = train_data[series_id].diff()[1:]\n",
        "      emit_seq = np.array(data_diff.apply(lambda x: 1 if x > 0 else 0).values)\n",
        "\n",
        "      # Reshaping emit_seq for fitting\n",
        "      emit_seq = emit_seq.reshape(-1, 1)\n",
        "\n",
        "      # Fitting the HMM model\n",
        "      try:\n",
        "          dhmm.fit(emit_seq)\n",
        "      except ConvergenceWarning:\n",
        "          # Handle convergence warning by reducing the number of clusters\n",
        "          dhmm = GaussianHMM(n_components=2, covariance_type=\"diag\")\n",
        "          dhmm.fit(emit_seq)\n",
        "\n",
        "      # Using decode instead of viterbi\n",
        "      log_prob, s_seq = dhmm.decode(emit_seq)\n",
        "\n",
        "      disc_test[series_id] = s_seq\n",
        "    else:\n",
        "      pass\n",
        "\n",
        "\n"
      ],
      "metadata": {
        "colab": {
          "base_uri": "https://localhost:8080/"
        },
        "id": "j9qLo_M0gx2t",
        "outputId": "b3b138b3-74a7-4509-849c-203b8f09a6cf"
      },
      "execution_count": null,
      "outputs": [
        {
          "output_type": "stream",
          "name": "stderr",
          "text": [
            "/usr/local/lib/python3.10/dist-packages/sklearn/base.py:1152: ConvergenceWarning: Number of distinct clusters (2) found smaller than n_clusters (3). Possibly due to duplicate points in X.\n",
            "  return fit_method(estimator, *args, **kwargs)\n",
            "/usr/local/lib/python3.10/dist-packages/sklearn/base.py:1152: ConvergenceWarning: Number of distinct clusters (2) found smaller than n_clusters (3). Possibly due to duplicate points in X.\n",
            "  return fit_method(estimator, *args, **kwargs)\n"
          ]
        }
      ]
    },
    {
      "cell_type": "markdown",
      "source": [
        "Re-running the Bayesian network using hill climbing"
      ],
      "metadata": {
        "id": "HaROCb6ppHRf"
      }
    },
    {
      "cell_type": "code",
      "source": [
        "!pip install pgmpy"
      ],
      "metadata": {
        "colab": {
          "base_uri": "https://localhost:8080/"
        },
        "id": "HCE7jM16qfLy",
        "outputId": "fa11d36d-8042-47b1-a6e0-fa6d0e216849"
      },
      "execution_count": null,
      "outputs": [
        {
          "output_type": "stream",
          "name": "stdout",
          "text": [
            "Collecting pgmpy\n",
            "  Downloading pgmpy-0.1.25-py3-none-any.whl.metadata (6.4 kB)\n",
            "Requirement already satisfied: networkx in /usr/local/lib/python3.10/dist-packages (from pgmpy) (3.3)\n",
            "Requirement already satisfied: numpy in /usr/local/lib/python3.10/dist-packages (from pgmpy) (1.26.4)\n",
            "Requirement already satisfied: scipy in /usr/local/lib/python3.10/dist-packages (from pgmpy) (1.13.1)\n",
            "Requirement already satisfied: scikit-learn in /usr/local/lib/python3.10/dist-packages (from pgmpy) (1.3.2)\n",
            "Requirement already satisfied: pandas in /usr/local/lib/python3.10/dist-packages (from pgmpy) (2.1.4)\n",
            "Requirement already satisfied: pyparsing in /usr/local/lib/python3.10/dist-packages (from pgmpy) (3.1.2)\n",
            "Requirement already satisfied: torch in /usr/local/lib/python3.10/dist-packages (from pgmpy) (2.3.1+cu121)\n",
            "Requirement already satisfied: statsmodels in /usr/local/lib/python3.10/dist-packages (from pgmpy) (0.14.2)\n",
            "Requirement already satisfied: tqdm in /usr/local/lib/python3.10/dist-packages (from pgmpy) (4.66.5)\n",
            "Requirement already satisfied: joblib in /usr/local/lib/python3.10/dist-packages (from pgmpy) (1.4.2)\n",
            "Requirement already satisfied: opt-einsum in /usr/local/lib/python3.10/dist-packages (from pgmpy) (3.3.0)\n",
            "Requirement already satisfied: python-dateutil>=2.8.2 in /usr/local/lib/python3.10/dist-packages (from pandas->pgmpy) (2.8.2)\n",
            "Requirement already satisfied: pytz>=2020.1 in /usr/local/lib/python3.10/dist-packages (from pandas->pgmpy) (2024.1)\n",
            "Requirement already satisfied: tzdata>=2022.1 in /usr/local/lib/python3.10/dist-packages (from pandas->pgmpy) (2024.1)\n",
            "Requirement already satisfied: threadpoolctl>=2.0.0 in /usr/local/lib/python3.10/dist-packages (from scikit-learn->pgmpy) (3.5.0)\n",
            "Requirement already satisfied: patsy>=0.5.6 in /usr/local/lib/python3.10/dist-packages (from statsmodels->pgmpy) (0.5.6)\n",
            "Requirement already satisfied: packaging>=21.3 in /usr/local/lib/python3.10/dist-packages (from statsmodels->pgmpy) (24.1)\n",
            "Requirement already satisfied: filelock in /usr/local/lib/python3.10/dist-packages (from torch->pgmpy) (3.15.4)\n",
            "Requirement already satisfied: typing-extensions>=4.8.0 in /usr/local/lib/python3.10/dist-packages (from torch->pgmpy) (4.12.2)\n",
            "Requirement already satisfied: sympy in /usr/local/lib/python3.10/dist-packages (from torch->pgmpy) (1.13.1)\n",
            "Requirement already satisfied: jinja2 in /usr/local/lib/python3.10/dist-packages (from torch->pgmpy) (3.1.4)\n",
            "Requirement already satisfied: fsspec in /usr/local/lib/python3.10/dist-packages (from torch->pgmpy) (2024.6.1)\n",
            "Collecting nvidia-cuda-nvrtc-cu12==12.1.105 (from torch->pgmpy)\n",
            "  Using cached nvidia_cuda_nvrtc_cu12-12.1.105-py3-none-manylinux1_x86_64.whl.metadata (1.5 kB)\n",
            "Collecting nvidia-cuda-runtime-cu12==12.1.105 (from torch->pgmpy)\n",
            "  Using cached nvidia_cuda_runtime_cu12-12.1.105-py3-none-manylinux1_x86_64.whl.metadata (1.5 kB)\n",
            "Collecting nvidia-cuda-cupti-cu12==12.1.105 (from torch->pgmpy)\n",
            "  Using cached nvidia_cuda_cupti_cu12-12.1.105-py3-none-manylinux1_x86_64.whl.metadata (1.6 kB)\n",
            "Collecting nvidia-cudnn-cu12==8.9.2.26 (from torch->pgmpy)\n",
            "  Using cached nvidia_cudnn_cu12-8.9.2.26-py3-none-manylinux1_x86_64.whl.metadata (1.6 kB)\n",
            "Collecting nvidia-cublas-cu12==12.1.3.1 (from torch->pgmpy)\n",
            "  Using cached nvidia_cublas_cu12-12.1.3.1-py3-none-manylinux1_x86_64.whl.metadata (1.5 kB)\n",
            "Collecting nvidia-cufft-cu12==11.0.2.54 (from torch->pgmpy)\n",
            "  Using cached nvidia_cufft_cu12-11.0.2.54-py3-none-manylinux1_x86_64.whl.metadata (1.5 kB)\n",
            "Collecting nvidia-curand-cu12==10.3.2.106 (from torch->pgmpy)\n",
            "  Using cached nvidia_curand_cu12-10.3.2.106-py3-none-manylinux1_x86_64.whl.metadata (1.5 kB)\n",
            "Collecting nvidia-cusolver-cu12==11.4.5.107 (from torch->pgmpy)\n",
            "  Using cached nvidia_cusolver_cu12-11.4.5.107-py3-none-manylinux1_x86_64.whl.metadata (1.6 kB)\n",
            "Collecting nvidia-cusparse-cu12==12.1.0.106 (from torch->pgmpy)\n",
            "  Using cached nvidia_cusparse_cu12-12.1.0.106-py3-none-manylinux1_x86_64.whl.metadata (1.6 kB)\n",
            "Collecting nvidia-nccl-cu12==2.20.5 (from torch->pgmpy)\n",
            "  Using cached nvidia_nccl_cu12-2.20.5-py3-none-manylinux2014_x86_64.whl.metadata (1.8 kB)\n",
            "Collecting nvidia-nvtx-cu12==12.1.105 (from torch->pgmpy)\n",
            "  Using cached nvidia_nvtx_cu12-12.1.105-py3-none-manylinux1_x86_64.whl.metadata (1.7 kB)\n",
            "Requirement already satisfied: triton==2.3.1 in /usr/local/lib/python3.10/dist-packages (from torch->pgmpy) (2.3.1)\n",
            "Collecting nvidia-nvjitlink-cu12 (from nvidia-cusolver-cu12==11.4.5.107->torch->pgmpy)\n",
            "  Using cached nvidia_nvjitlink_cu12-12.6.20-py3-none-manylinux2014_x86_64.whl.metadata (1.5 kB)\n",
            "Requirement already satisfied: six in /usr/local/lib/python3.10/dist-packages (from patsy>=0.5.6->statsmodels->pgmpy) (1.16.0)\n",
            "Requirement already satisfied: MarkupSafe>=2.0 in /usr/local/lib/python3.10/dist-packages (from jinja2->torch->pgmpy) (2.1.5)\n",
            "Requirement already satisfied: mpmath<1.4,>=1.1.0 in /usr/local/lib/python3.10/dist-packages (from sympy->torch->pgmpy) (1.3.0)\n",
            "Downloading pgmpy-0.1.25-py3-none-any.whl (2.0 MB)\n",
            "\u001b[2K   \u001b[90m━━━━━━━━━━━━━━━━━━━━━━━━━━━━━━━━━━━━━━━━\u001b[0m \u001b[32m2.0/2.0 MB\u001b[0m \u001b[31m18.6 MB/s\u001b[0m eta \u001b[36m0:00:00\u001b[0m\n",
            "\u001b[?25hUsing cached nvidia_cublas_cu12-12.1.3.1-py3-none-manylinux1_x86_64.whl (410.6 MB)\n",
            "Using cached nvidia_cuda_cupti_cu12-12.1.105-py3-none-manylinux1_x86_64.whl (14.1 MB)\n",
            "Using cached nvidia_cuda_nvrtc_cu12-12.1.105-py3-none-manylinux1_x86_64.whl (23.7 MB)\n",
            "Using cached nvidia_cuda_runtime_cu12-12.1.105-py3-none-manylinux1_x86_64.whl (823 kB)\n",
            "Using cached nvidia_cudnn_cu12-8.9.2.26-py3-none-manylinux1_x86_64.whl (731.7 MB)\n",
            "Using cached nvidia_cufft_cu12-11.0.2.54-py3-none-manylinux1_x86_64.whl (121.6 MB)\n",
            "Using cached nvidia_curand_cu12-10.3.2.106-py3-none-manylinux1_x86_64.whl (56.5 MB)\n",
            "Using cached nvidia_cusolver_cu12-11.4.5.107-py3-none-manylinux1_x86_64.whl (124.2 MB)\n",
            "Using cached nvidia_cusparse_cu12-12.1.0.106-py3-none-manylinux1_x86_64.whl (196.0 MB)\n",
            "Using cached nvidia_nccl_cu12-2.20.5-py3-none-manylinux2014_x86_64.whl (176.2 MB)\n",
            "Using cached nvidia_nvtx_cu12-12.1.105-py3-none-manylinux1_x86_64.whl (99 kB)\n",
            "Using cached nvidia_nvjitlink_cu12-12.6.20-py3-none-manylinux2014_x86_64.whl (19.7 MB)\n",
            "Installing collected packages: nvidia-nvtx-cu12, nvidia-nvjitlink-cu12, nvidia-nccl-cu12, nvidia-curand-cu12, nvidia-cufft-cu12, nvidia-cuda-runtime-cu12, nvidia-cuda-nvrtc-cu12, nvidia-cuda-cupti-cu12, nvidia-cublas-cu12, nvidia-cusparse-cu12, nvidia-cudnn-cu12, nvidia-cusolver-cu12, pgmpy\n",
            "Successfully installed nvidia-cublas-cu12-12.1.3.1 nvidia-cuda-cupti-cu12-12.1.105 nvidia-cuda-nvrtc-cu12-12.1.105 nvidia-cuda-runtime-cu12-12.1.105 nvidia-cudnn-cu12-8.9.2.26 nvidia-cufft-cu12-11.0.2.54 nvidia-curand-cu12-10.3.2.106 nvidia-cusolver-cu12-11.4.5.107 nvidia-cusparse-cu12-12.1.0.106 nvidia-nccl-cu12-2.20.5 nvidia-nvjitlink-cu12-12.6.20 nvidia-nvtx-cu12-12.1.105 pgmpy-0.1.25\n"
          ]
        }
      ]
    },
    {
      "cell_type": "code",
      "source": [
        "from pgmpy.models import BayesianNetwork\n",
        "from pgmpy.estimators import HillClimbSearch\n",
        "from pgmpy.estimators import BayesianEstimator\n",
        "from pgmpy.estimators import BicScore, K2Score\n",
        "from pgmpy.estimators import HillClimbSearch, BayesianEstimator, K2Score\n",
        "import networkx as nx\n",
        "import matplotlib.pyplot as plt\n",
        "\n",
        "# Load the discretized training data\n",
        "d_f = pd.merge(macro_data, fin_data, left_index=True, right_index=True)\n",
        "d_f.dropna(inplace=True)\n",
        "\n",
        "# Discretize the data for HMM\n",
        "combined_data_diff = d_f.diff().dropna()\n",
        "discretized_data = combined_data_diff.applymap(lambda x: 1 if x > 0 else 0)\n",
        "train_data = discretized_data\n",
        "\n",
        "# Hill Climbing Search Implementation\n",
        "hc = HillClimbSearch(train_data)\n",
        "\n",
        "# Expert knowledge model initialization\n",
        "expert = BayesianNetwork()\n",
        "expert.add_nodes_from(datasets_fred + financial_datasets_fred)\n",
        "expert.add_edges_from([\n",
        "   ('WTISPLC' , 'DEXCAUS'),        # Exchange rate influences crude oil prices\n",
        "    ('VIXCLS', 'WTISPLC'),         # Market volatility influences crude oil prices\n",
        "    ('WTISPLC' , 'DCOILWTICO'),     # Futures prices influence spot prices\n",
        "    ('SP500', 'WTISPLC'),          # Stock market influences crude oil prices\n",
        "\n",
        "    ('WTISPLC', 'CPIENGSL'),       # Crude oil prices influence energy costs\n",
        "    ('DCOILBRENTEU', 'CPIENGSL'),  # Brent futures influence energy costs\n",
        "\n",
        "    ('WTISPLC', 'CAPG211S'),       # Oil prices influence capacity in extraction\n",
        "    ('INDPRO', 'CAPG211S'),        # Industrial production impacts capacity in extraction\n",
        "\n",
        "    ('CAPG211S', 'CAPUTLG211S'),   # Capacity drives utilization in extraction\n",
        "    ('IPN213111N', 'CAPUTLG211S'), # Drilling activity influences capacity utilization\n",
        "\n",
        "    ('CAPUTLG211S', 'IPG211S'),    # Capacity utilization increases production\n",
        "    ('WTISPLC', 'IPG211S'),        # Oil prices influence production levels\n",
        "\n",
        "    ('DEXCAUS', 'INDPRO'),         # Exchange rates affect industrial production\n",
        "\n",
        "    ('WTISPLC', 'IPN213111N'),     # Oil prices influence drilling activity\n",
        "    ('CAPG211S', 'IPN213111N'),    # Capacity impacts drilling activity\n",
        "\n",
        "    ('WTISPLC', 'PCU211211'),      # Oil prices affect producer price index\n",
        "    ('CAPUTLG211S', 'PCU211211'),  # Capacity utilization impacts producer prices\n",
        "\n",
        "    ('WTISPLC', 'DEXCAUS'),        # Crude oil prices impact exchange rates\n",
        "\n",
        "    ('SP500', 'VIXCLS'),           # Stock market performance influences market volatility\n",
        "\n",
        "    ('WTISPLC', 'DCOILWTICO'),     # Spot prices impact futures prices\n",
        "    ('DEXCAUS', 'DCOILWTICO'),     # Exchange rates influence futures prices\n",
        "\n",
        "    ('WTISPLC', 'DCOILBRENTEU'),   # WTI prices impact Brent futures\n",
        "    ('DEXCAUS', 'DCOILBRENTEU'),   # Exchange rates influence Brent futures\n",
        "\n",
        "    ('SP500' , 'INDPRO'),           # Industrial production influences stock market performance\n",
        "    ('SP500' , 'WTISPLC'),          # Crude oil prices can impact the stock market\n",
        "])\n",
        "\n",
        "# Perform Hill Climbing search and create a BayesianModel from the estimated DAG\n",
        "model_structure = hc.estimate(scoring_method=K2Score(train_data)) # Estimate the DAG structure\n",
        "model = BayesianNetwork(model_structure.edges()) # Create a BayesianModel from the DAG\n",
        "\n",
        "# Fit the model to training data\n",
        "model.fit(train_data, state_names=dict(map(lambda e: (e, [0, 1, 2]), datasets_fred + financial_datasets_fred)), estimator=BayesianEstimator, prior_type=\"K2\")\n",
        "\n",
        "\n",
        "\n"
      ],
      "metadata": {
        "colab": {
          "base_uri": "https://localhost:8080/",
          "height": 84,
          "referenced_widgets": [
            "b1f08f0d8d014ab98740bbbf139fe7ba",
            "1f264bb72a9d48daad013bdc51d4c10f",
            "b66f6f5f4cc248f5b94b5d3fc5994d1d",
            "e3736f2103114ccfa28cf920d6148b56",
            "5f8718fb857c435e8748064608a11802",
            "72bb72cbaf1f42f1876e73c5f2b6b4c7",
            "e03e49a21ba14768bcf068b17c18b255",
            "316504824db546f09d81c355117abf71",
            "e758522774bb46a79cc1424ba45fa1d6",
            "2345e389d28a4e4f96757de33585799e",
            "abd23b7a2d5f4a488a94f837d5e92b17"
          ]
        },
        "id": "L8jh79PQnT0I",
        "outputId": "c238d0ab-5e01-407c-f2fc-c565e1d76ecb"
      },
      "execution_count": null,
      "outputs": [
        {
          "output_type": "stream",
          "name": "stderr",
          "text": [
            "<ipython-input-164-a33062c1f847>:15: FutureWarning: DataFrame.applymap has been deprecated. Use DataFrame.map instead.\n",
            "  discretized_data = combined_data_diff.applymap(lambda x: 1 if x > 0 else 0)\n"
          ]
        },
        {
          "output_type": "display_data",
          "data": {
            "text/plain": [
              "  0%|          | 0/1000000 [00:00<?, ?it/s]"
            ],
            "application/vnd.jupyter.widget-view+json": {
              "version_major": 2,
              "version_minor": 0,
              "model_id": "b1f08f0d8d014ab98740bbbf139fe7ba"
            }
          },
          "metadata": {}
        }
      ]
    },
    {
      "cell_type": "markdown",
      "source": [
        "Finally, the Bayesian network model is fitted and the visualization of the resulting network is observed as follows-"
      ],
      "metadata": {
        "id": "6GySxY1Zb3h0"
      }
    },
    {
      "cell_type": "code",
      "source": [
        "G = nx.Graph()\n",
        "G.add_edges_from(model.edges())\n",
        "print(\"Graph edges:\", G.edges())\n",
        "\n",
        "pos = nx.spring_layout(G)\n",
        "plt.figure(figsize=(20, 10))\n",
        "nx.draw_networkx_nodes(G, pos, node_size=100)\n",
        "nx.draw_networkx_edges(G, pos, arrows=True)\n",
        "nx.draw_networkx_labels(G, pos)\n",
        "plt.show()"
      ],
      "metadata": {
        "colab": {
          "base_uri": "https://localhost:8080/",
          "height": 679
        },
        "id": "Erbls46M6zPg",
        "outputId": "c40ed39d-82f5-4fc6-e308-a7137a8a7888"
      },
      "execution_count": null,
      "outputs": [
        {
          "output_type": "stream",
          "name": "stdout",
          "text": [
            "Graph edges: [('WTISPLC', 'PCU211211'), ('WTISPLC', 'DCOILBRENTEU'), ('WTISPLC', 'DCOILWTICO'), ('PCU211211', 'SP500'), ('PCU211211', 'CPIENGSL'), ('PCU211211', 'VIXCLS'), ('PCU211211', 'DCOILBRENTEU'), ('PCU211211', 'DCOILWTICO'), ('SP500', 'CAPG211S'), ('CPIENGSL', 'VIXCLS'), ('CPIENGSL', 'DCOILBRENTEU'), ('CPIENGSL', 'DCOILWTICO'), ('CAPG211S', 'IPG211S'), ('IPG211S', 'CAPUTLG211S'), ('CAPUTLG211S', 'INDPRO'), ('CAPUTLG211S', 'DCOILWTICO'), ('INDPRO', 'IPN213111N'), ('IPN213111N', 'DEXCAUS'), ('IPN213111N', 'VIXCLS'), ('DEXCAUS', 'VIXCLS'), ('DEXCAUS', 'DCOILBRENTEU'), ('VIXCLS', 'DCOILBRENTEU'), ('DCOILBRENTEU', 'DCOILWTICO')]\n"
          ]
        },
        {
          "output_type": "display_data",
          "data": {
            "text/plain": [
              "<Figure size 2000x1000 with 1 Axes>"
            ],
            "image/png": "[encoded data removed]"
          },
          "metadata": {}
        }
      ]
    },
    {
      "cell_type": "markdown",
      "source": [
        "# **Step 5**"
      ],
      "metadata": {
        "id": "demzv86nIIuN"
      }
    },
    {
      "cell_type": "markdown",
      "source": [
        "In order to report the accuracy of the forecasted crude oil prices after successfully fitting the model to the data, first the testing will be done on validation dataset to know if any adjustments are required. After that, the testing will be done on the testing dataset to report the accuracy of the model."
      ],
      "metadata": {
        "id": "US1BLfx_dGtP"
      }
    },
    {
      "cell_type": "markdown",
      "source": [
        "Testing on validation data"
      ],
      "metadata": {
        "id": "BSDeobt2xEdt"
      }
    },
    {
      "cell_type": "code",
      "source": [
        "import numpy as np\n",
        "import pandas as pd\n",
        "from hmmlearn.hmm import GaussianHMM\n",
        "\n",
        "# Initialize an empty DataFrame to store the discretized validation data\n",
        "discrete_vald = pd.DataFrame(index=vald_data[1:].index)\n",
        "\n",
        "# Process each column in the vald_data (here WTISPLC and forecast)\n",
        "for series_id in vald_data.columns:\n",
        "    print(f\"Processing {series_id}...\")\n",
        "\n",
        "    # Initialize the HMM model (GaussianHMM)\n",
        "    dhmm = GaussianHMM(n_components=3, covariance_type=\"diag\")\n",
        "\n",
        "    # Calculate the difference in validation data and discretize\n",
        "    vald_data_diff = vald_data[series_id].diff()[1:]\n",
        "    emit_seq_vald = np.array(vald_data_diff.apply(lambda x: 1 if x > 0 else 0).values)\n",
        "\n",
        "    try:\n",
        "        # Fit the HMM to the validation emission sequence\n",
        "        dhmm.fit(emit_seq_vald.reshape(-1, 1))\n",
        "\n",
        "        # Decode the validation sequence\n",
        "        log_prob, s_seq = dhmm.decode(emit_seq_vald.reshape(-1, 1))\n",
        "\n",
        "        # Store the discretized sequence\n",
        "        discrete_vald[series_id] = s_seq\n",
        "\n",
        "        print(f\"Finished processing {series_id}.\")\n",
        "\n",
        "    except ValueError as e:\n",
        "        print(f\"Error processing {series_id}: {e}\")\n"
      ],
      "metadata": {
        "colab": {
          "base_uri": "https://localhost:8080/"
        },
        "id": "hpx_WT-qpFuQ",
        "outputId": "05a0ddbb-7dd7-4bde-8a93-a3a7520e3a06"
      },
      "execution_count": null,
      "outputs": [
        {
          "output_type": "stream",
          "name": "stdout",
          "text": [
            "Processing WTISPLC...\n",
            "Finished processing WTISPLC.\n",
            "Processing forecast...\n",
            "Finished processing forecast.\n"
          ]
        },
        {
          "output_type": "stream",
          "name": "stderr",
          "text": [
            "/usr/local/lib/python3.10/dist-packages/sklearn/base.py:1152: ConvergenceWarning: Number of distinct clusters (2) found smaller than n_clusters (3). Possibly due to duplicate points in X.\n",
            "  return fit_method(estimator, *args, **kwargs)\n",
            "/usr/local/lib/python3.10/dist-packages/sklearn/base.py:1152: ConvergenceWarning: Number of distinct clusters (2) found smaller than n_clusters (3). Possibly due to duplicate points in X.\n",
            "  return fit_method(estimator, *args, **kwargs)\n"
          ]
        }
      ]
    },
    {
      "cell_type": "code",
      "source": [
        "# Record real data observation, to be compared with the predicted one\n",
        "vald_real = discrete_vald['WTISPLC'].values;\n",
        "pred_value_vald = discrete_vald['forecast'].values;"
      ],
      "metadata": {
        "id": "wBXr_2lzrzeB"
      },
      "execution_count": null,
      "outputs": []
    },
    {
      "cell_type": "code",
      "source": [
        "print(\"\\nPredicted Value: \");\n",
        "print(pred_value_vald);\n",
        "print(\"\\nReal Value: \");\n",
        "print(vald_real);\n",
        "error = np.mean(vald_real != np.roll(pred_value_vald, 1));\n",
        "#error = np.mean(vald_real != pred_value_vald);\n",
        "print(\"\\nError: \");\n",
        "print(error * 100);"
      ],
      "metadata": {
        "colab": {
          "base_uri": "https://localhost:8080/"
        },
        "id": "Brv3K82Pwc0q",
        "outputId": "ba6b8fee-8fda-4f75-b0d8-d3c5f846fefc"
      },
      "execution_count": null,
      "outputs": [
        {
          "output_type": "stream",
          "name": "stdout",
          "text": [
            "\n",
            "Predicted Value: \n",
            "[2 0 2 2 2 2 0 2 0 2 2 0 2 0 2 2 0 2 2 2 0 2 2 2 2 2 2 2 0 0 2 0 0 2 2 2 2\n",
            " 2 2 0 0 0 2 2 2 0 0 2 2 2 0 0 2 2 2 2 0 0 0 2 0 2 0 2 2 2 0 0 0 0 0 0 0 2\n",
            " 0 2 2 2 0 0 2 2 0 0 0 0 2 2 2 2 0 2 2]\n",
            "\n",
            "Real Value: \n",
            "[0 1 0 1 1 1 1 0 1 0 1 1 0 1 0 1 1 0 1 1 1 0 1 1 1 1 1 1 1 0 0 1 0 0 1 1 1\n",
            " 1 1 1 0 0 0 1 1 1 0 0 1 1 1 0 0 1 1 1 1 0 0 0 1 0 1 0 1 1 1 0 0 0 0 0 0 0\n",
            " 1 0 1 1 1 0 0 1 1 0 0 0 0 1 1 1 1 0 1]\n",
            "\n",
            "Error: \n",
            "59.13978494623656\n"
          ]
        }
      ]
    },
    {
      "cell_type": "markdown",
      "source": [
        "Testing on test data"
      ],
      "metadata": {
        "id": "u5WblygexTnw"
      }
    },
    {
      "cell_type": "code",
      "source": [
        "import numpy as np\n",
        "import pandas as pd\n",
        "from hmmlearn.hmm import GaussianHMM\n",
        "\n",
        "# Initialize an empty DataFrame to store the discretized validation data\n",
        "discrete_test = pd.DataFrame(index=test_data[1:].index)\n",
        "\n",
        "# Process each column in the vald_data (here WTISPLC and forecast)\n",
        "for series_id in test_data.columns:\n",
        "    print(f\"Processing {series_id}...\")\n",
        "\n",
        "    # Initialize the HMM model (GaussianHMM)\n",
        "    dhmm = GaussianHMM(n_components=3, covariance_type=\"diag\")\n",
        "\n",
        "    # Calculate the difference in validation data and discretize\n",
        "    test_data_diff = test_data[series_id].diff()[1:]\n",
        "    emit_seq_vald = np.array(test_data_diff.apply(lambda x: 1 if x > 0 else 0).values)\n",
        "\n",
        "    try:\n",
        "        # Fit the HMM to the validation emission sequence\n",
        "        dhmm.fit(emit_seq_vald.reshape(-1, 1))\n",
        "\n",
        "        # Decode the validation sequence\n",
        "        log_prob, s_seq = dhmm.decode(emit_seq_vald.reshape(-1, 1))\n",
        "\n",
        "        # Store the discretized sequence\n",
        "        discrete_test[series_id] = s_seq\n",
        "\n",
        "        print(f\"Finished processing {series_id}.\")\n",
        "\n",
        "    except ValueError as e:\n",
        "        print(f\"Error processing {series_id}: {e}\")"
      ],
      "metadata": {
        "colab": {
          "base_uri": "https://localhost:8080/"
        },
        "id": "o20ZdilzxWhg",
        "outputId": "91440de5-1276-472a-b494-7e89fd95afe7"
      },
      "execution_count": null,
      "outputs": [
        {
          "output_type": "stream",
          "name": "stdout",
          "text": [
            "Processing WTISPLC...\n",
            "Finished processing WTISPLC.\n",
            "Processing forecast...\n",
            "Finished processing forecast.\n"
          ]
        },
        {
          "output_type": "stream",
          "name": "stderr",
          "text": [
            "/usr/local/lib/python3.10/dist-packages/sklearn/base.py:1152: ConvergenceWarning: Number of distinct clusters (2) found smaller than n_clusters (3). Possibly due to duplicate points in X.\n",
            "  return fit_method(estimator, *args, **kwargs)\n",
            "/usr/local/lib/python3.10/dist-packages/sklearn/base.py:1152: ConvergenceWarning: Number of distinct clusters (2) found smaller than n_clusters (3). Possibly due to duplicate points in X.\n",
            "  return fit_method(estimator, *args, **kwargs)\n"
          ]
        }
      ]
    },
    {
      "cell_type": "code",
      "source": [
        "# Record real data observation, to be compared with the predicted one\n",
        "test_real = discrete_test['WTISPLC'].values;\n",
        "pred_value_test = discrete_test['forecast'].values;"
      ],
      "metadata": {
        "id": "w2M9UdlMxzfR"
      },
      "execution_count": null,
      "outputs": []
    },
    {
      "cell_type": "code",
      "source": [
        "print(\"\\nPredicted Value: \");\n",
        "print(pred_value_test);\n",
        "print(\"\\nReal Value: \");\n",
        "print(test_real);\n",
        "error = np.mean(test_real != np.roll(pred_value_test, 1));\n",
        "#error = np.mean(vald_real != pred_value_vald);\n",
        "print(\"\\nError: \");\n",
        "print(error * 100);"
      ],
      "metadata": {
        "colab": {
          "base_uri": "https://localhost:8080/"
        },
        "id": "D9nspaIzyIfI",
        "outputId": "8569b636-e859-436f-c44f-2499c049a3c5"
      },
      "execution_count": null,
      "outputs": [
        {
          "output_type": "stream",
          "name": "stdout",
          "text": [
            "\n",
            "Predicted Value: \n",
            "[2 1 1 1 2 1 2 2 1 1 1 1 1 1 1 2 1 1 1 2 1 2 1 1 2 2 1 1 1 1 2 2 1 2 1 2 1\n",
            " 1 2 2 2 2 1 1 1 1 2 2 1 1 1 1 1 2 1 1 1 2 1 1 2 2 1 1 1 2 1 1 2 2 2 1 2 2\n",
            " 1 2 2 1 2 2 1 1 1 2 2 2 1 1 1 1 2 2 1 2]\n",
            "\n",
            "Real Value: \n",
            "[2 0 1 1 1 0 1 0 0 1 1 1 1 1 1 1 0 1 1 1 0 1 0 1 1 0 0 1 1 1 1 0 0 1 0 1 0\n",
            " 1 1 0 0 0 0 1 1 1 1 0 0 1 1 1 1 1 0 1 1 1 0 1 1 0 0 1 1 1 0 1 1 0 0 0 1 0\n",
            " 0 1 0 0 1 0 0 1 1 1 0 0 0 1 1 1 1 0 0 1]\n",
            "\n",
            "Error: \n",
            "40.42553191489361\n"
          ]
        }
      ]
    },
    {
      "cell_type": "markdown",
      "source": [
        "In order to display the results graphically, the following plot is observed"
      ],
      "metadata": {
        "id": "VKqkperLvFoR"
      }
    },
    {
      "cell_type": "code",
      "source": [
        "import matplotlib.patches as mpatches # Import the patches module from matplotlib\n",
        "import matplotlib.pyplot as plt\n",
        "# Record real data observation, to be compared with the predicted one\n",
        "test_real = discrete_test['WTISPLC'].values;\n",
        "\n",
        "# Adjust index to match the length of pred_value_test\n",
        "pred_value_test = discrete_test['forecast'].values;\n",
        "test_signal = pd.DataFrame(pred_value_test, columns=['forecast'], index=test_price.index[1:]); # Use index starting from the second element\n",
        "\n",
        "test_sheet = pd.concat([test_price, test_signal], axis=1, join='inner');\n",
        "trades = [test_sheet['WTISPLC'].iloc[0]]  # Initialize with the first price\n",
        "position = False; # True for Long, False for Short\n",
        "for i in range(len(test_sheet)-1):\n",
        "    if test_sheet['forecast'].iloc[i+1] == 0:\n",
        "        trades.append(trades[-1])  # Hold position\n",
        "    elif test_sheet['forecast'].iloc[i+1] == 2:\n",
        "        if position == False:\n",
        "            position = True\n",
        "            trades.append(trades[-1]) # Enter long position\n",
        "        else:\n",
        "            trades.append(test_sheet['WTISPLC'].iloc[i+1]) # Exit long position\n",
        "    else:\n",
        "        if position == False:\n",
        "            trades.append(trades[-1]) # Hold short position\n",
        "        else:\n",
        "            trades.append(test_sheet['WTISPLC'].iloc[i+1]) # Continue long position\n",
        "\n",
        "# Select rows from 'data' that match the index of 'test_signal'\n",
        "eia_forecast = data.loc[test_signal.index]\n",
        "\n",
        "# Create the DataFrame (no need to remove None values anymore)\n",
        "test_performance = pd.DataFrame(trades, index = test_signal.index, columns=['performance']);\n",
        "test_sheet = pd.concat([test_sheet, test_performance], axis=1, join='inner');\n",
        "plt.plot(test_sheet['WTISPLC'], 'r');\n",
        "plt.plot(test_sheet['performance'], 'g');\n",
        "plt.plot(eia_forecast['forecast'], 'b');\n",
        "r_patch = mpatches.Patch(color='red', label='WTI Crude Oil Price');\n",
        "g_patch = mpatches.Patch(color='green', label='Bayesian Model');\n",
        "b_patch = mpatches.Patch(color='blue', label='Forecast');\n",
        "plt.legend(handles=[r_patch, g_patch, b_patch], loc = 'lower right');"
      ],
      "metadata": {
        "colab": {
          "base_uri": "https://localhost:8080/",
          "height": 430
        },
        "id": "bHlRr9dbjGpX",
        "outputId": "d366dee9-ddf8-4b78-b143-f08df49e1009"
      },
      "execution_count": null,
      "outputs": [
        {
          "output_type": "display_data",
          "data": {
            "text/plain": [
              "<Figure size 640x480 with 1 Axes>"
            ],
            "image/png": "[encoded data removed]"
          },
          "metadata": {}
        }
      ]
    },
    {
      "cell_type": "markdown",
      "source": [
        "From the above plot, a comparison can be made between the performance of the model and the performance of the forecasts."
      ],
      "metadata": {
        "id": "dAzWuuNEvHXM"
      }
    }
  ]
}